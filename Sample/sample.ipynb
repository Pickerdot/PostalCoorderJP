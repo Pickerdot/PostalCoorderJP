{
 "cells": [
  {
   "cell_type": "code",
   "execution_count": 7,
   "id": "b532f723",
   "metadata": {
    "scrolled": false
   },
   "outputs": [],
   "source": [
    "from postal_coder_jp.postal_coder import postal_coder"
   ]
  },
  {
   "cell_type": "code",
   "execution_count": 10,
   "id": "7d9960c1",
   "metadata": {},
   "outputs": [],
   "source": [
    "import postal_coder_jp"
   ]
  },
  {
   "cell_type": "code",
   "execution_count": 12,
   "id": "afbf4fa2",
   "metadata": {
    "scrolled": true
   },
   "outputs": [
    {
     "name": "stdout",
     "output_type": "stream",
     "text": [
      "[{'prefectures': '宮城県', 'city': '仙台市青葉区', 'town': '青葉町', 'latitude': 38.28431522, 'longitude': 140.86294406}]\n"
     ]
    }
   ],
   "source": [
    "list_result = postal_coder(\"9810916\")\n",
    "print(list_result)"
   ]
  },
  {
   "cell_type": "code",
   "execution_count": 13,
   "id": "32ed7ca2",
   "metadata": {},
   "outputs": [
    {
     "name": "stdout",
     "output_type": "stream",
     "text": [
      "{'prefectures': '宮城県', 'city': '仙台市青葉区', 'town': '青葉町', 'latitude': 38.28431522, 'longitude': 140.86294406}\n"
     ]
    }
   ],
   "source": [
    "print(list_result[0])"
   ]
  },
  {
   "cell_type": "code",
   "execution_count": 14,
   "id": "69ef0029",
   "metadata": {},
   "outputs": [
    {
     "name": "stdout",
     "output_type": "stream",
     "text": [
      "宮城県\n"
     ]
    }
   ],
   "source": [
    "print(list_result[0][\"prefectures\"])"
   ]
  },
  {
   "cell_type": "code",
   "execution_count": 15,
   "id": "9a3d494c",
   "metadata": {},
   "outputs": [
    {
     "name": "stdout",
     "output_type": "stream",
     "text": [
      "[{'prefectures': '愛知県', 'city': '豊川市', 'town': '御津町金野', 'latitude': 34.84330831, 'longitude': 137.2779024}, {'prefectures': '愛知県', 'city': '豊川市', 'town': '御津町金野青木', 'latitude': 34.84330831, 'longitude': 137.2779024}, {'prefectures': '愛知県', 'city': '豊川市', 'town': '御津町金野油田', 'latitude': 34.84330831, 'longitude': 137.2779024}, {'prefectures': '愛知県', 'city': '豊川市', 'town': '御津町金野石田', 'latitude': 34.84330831, 'longitude': 137.2779024}, {'prefectures': '愛知県', 'city': '豊川市', 'town': '御津町金野稲場', 'latitude': 34.84330831, 'longitude': 137.2779024}, {'prefectures': '愛知県', 'city': '豊川市', 'town': '御津町金野岩本', 'latitude': 34.84330831, 'longitude': 137.2779024}, {'prefectures': '愛知県', 'city': '豊川市', 'town': '御津町金野上野', 'latitude': 34.84330831, 'longitude': 137.2779024}, {'prefectures': '愛知県', 'city': '豊川市', 'town': '御津町金野籠田', 'latitude': 34.84330831, 'longitude': 137.2779024}, {'prefectures': '愛知県', 'city': '豊川市', 'town': '御津町金野上沢', 'latitude': 34.84330831, 'longitude': 137.2779024}, {'prefectures': '愛知県', 'city': '豊川市', 'town': '御津町金野観音寺', 'latitude': 34.84330831, 'longitude': 137.2779024}, {'prefectures': '愛知県', 'city': '豊川市', 'town': '御津町金野国坂', 'latitude': 34.84330831, 'longitude': 137.2779024}, {'prefectures': '愛知県', 'city': '豊川市', 'town': '御津町金野郷作', 'latitude': 34.84330831, 'longitude': 137.2779024}, {'prefectures': '愛知県', 'city': '豊川市', 'town': '御津町金野五反田', 'latitude': 34.84330831, 'longitude': 137.2779024}, {'prefectures': '愛知県', 'city': '豊川市', 'town': '御津町金野小根沢', 'latitude': 34.84330831, 'longitude': 137.2779024}, {'prefectures': '愛知県', 'city': '豊川市', 'town': '御津町金野猿沢', 'latitude': 34.84330831, 'longitude': 137.2779024}, {'prefectures': '愛知県', 'city': '豊川市', 'town': '御津町金野下', 'latitude': 34.84330831, 'longitude': 137.2779024}, {'prefectures': '愛知県', 'city': '豊川市', 'town': '御津町金野下ノ前', 'latitude': 34.84330831, 'longitude': 137.2779024}, {'prefectures': '愛知県', 'city': '豊川市', 'town': '御津町金野新砂田', 'latitude': 34.84330831, 'longitude': 137.2779024}, {'prefectures': '愛知県', 'city': '豊川市', 'town': '御津町金野新山影', 'latitude': 34.84330831, 'longitude': 137.2779024}, {'prefectures': '愛知県', 'city': '豊川市', 'town': '御津町金野砂田', 'latitude': 34.84330831, 'longitude': 137.2779024}, {'prefectures': '愛知県', 'city': '豊川市', 'town': '御津町金野竹入', 'latitude': 34.84330831, 'longitude': 137.2779024}, {'prefectures': '愛知県', 'city': '豊川市', 'town': '御津町金野足見', 'latitude': 34.84330831, 'longitude': 137.2779024}, {'prefectures': '愛知県', 'city': '豊川市', 'town': '御津町金野徳寒', 'latitude': 34.84330831, 'longitude': 137.2779024}, {'prefectures': '愛知県', 'city': '豊川市', 'town': '御津町金野中切', 'latitude': 34.84330831, 'longitude': 137.2779024}, {'prefectures': '愛知県', 'city': '豊川市', 'town': '御津町金野中畑', 'latitude': 34.84330831, 'longitude': 137.2779024}, {'prefectures': '愛知県', 'city': '豊川市', 'town': '御津町金野西沢', 'latitude': 34.84330831, 'longitude': 137.2779024}, {'prefectures': '愛知県', 'city': '豊川市', 'town': '御津町金野灰野坂', 'latitude': 34.84330831, 'longitude': 137.2779024}, {'prefectures': '愛知県', 'city': '豊川市', 'town': '御津町金野長谷沢', 'latitude': 34.84330831, 'longitude': 137.2779024}, {'prefectures': '愛知県', 'city': '豊川市', 'town': '御津町金野東河津', 'latitude': 34.84330831, 'longitude': 137.2779024}, {'prefectures': '愛知県', 'city': '豊川市', 'town': '御津町金野東田', 'latitude': 34.84330831, 'longitude': 137.2779024}, {'prefectures': '愛知県', 'city': '豊川市', 'town': '御津町金野東畑', 'latitude': 34.84330831, 'longitude': 137.2779024}, {'prefectures': '愛知県', 'city': '豊川市', 'town': '御津町金野桧河津', 'latitude': 34.84330831, 'longitude': 137.2779024}, {'prefectures': '愛知県', 'city': '豊川市', 'town': '御津町金野深沢', 'latitude': 34.84330831, 'longitude': 137.2779024}, {'prefectures': '愛知県', 'city': '豊川市', 'town': '御津町金野深田', 'latitude': 34.84330831, 'longitude': 137.2779024}, {'prefectures': '愛知県', 'city': '豊川市', 'town': '御津町金野袋田', 'latitude': 34.84330831, 'longitude': 137.2779024}, {'prefectures': '愛知県', 'city': '豊川市', 'town': '御津町金野藤ケ山', 'latitude': 34.84330831, 'longitude': 137.2779024}, {'prefectures': '愛知県', 'city': '豊川市', 'town': '御津町金野藤久保', 'latitude': 34.84330831, 'longitude': 137.2779024}, {'prefectures': '愛知県', 'city': '豊川市', 'town': '御津町金野見竹', 'latitude': 34.84330831, 'longitude': 137.2779024}, {'prefectures': '愛知県', 'city': '豊川市', 'town': '御津町金野山影', 'latitude': 34.84330831, 'longitude': 137.2779024}, {'prefectures': '愛知県', 'city': '豊川市', 'town': '御津町金野山本', 'latitude': 34.84330831, 'longitude': 137.2779024}, {'prefectures': '愛知県', 'city': '豊川市', 'town': '御津町金野横手', 'latitude': 34.84330831, 'longitude': 137.2779024}]\n"
     ]
    }
   ],
   "source": [
    "print(postal_coder(\"4410323\"))"
   ]
  },
  {
   "cell_type": "code",
   "execution_count": null,
   "id": "78de8527",
   "metadata": {},
   "outputs": [],
   "source": []
  }
 ],
 "metadata": {
  "kernelspec": {
   "display_name": "Python 3 (ipykernel)",
   "language": "python",
   "name": "python3"
  },
  "language_info": {
   "codemirror_mode": {
    "name": "ipython",
    "version": 3
   },
   "file_extension": ".py",
   "mimetype": "text/x-python",
   "name": "python",
   "nbconvert_exporter": "python",
   "pygments_lexer": "ipython3",
   "version": "3.8.6"
  }
 },
 "nbformat": 4,
 "nbformat_minor": 5
}
